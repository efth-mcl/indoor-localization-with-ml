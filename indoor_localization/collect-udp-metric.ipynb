{
 "cells": [
  {
   "cell_type": "markdown",
   "metadata": {},
   "source": [
    "# Collect UDP Throughput as Metric\n",
    "## to Laptop server (s) from the rest RPIs client (c)\n",
    "\n",
    "**IP table:**\n",
    "\n",
    "| Laptop    | RPI 0      | RPI 1      | RPI 2     | RPI 3     |\n",
    "|:---------:|:----------:|:----------:|:---------:|:---------:|\n",
    "| 10.42.0.2 | 10.42.0.14 | 10.42.0.12 | 10.42.0.7 | 10.42.0.3 |"
   ]
  },
  {
   "cell_type": "code",
   "execution_count": null,
   "metadata": {
    "tags": []
   },
   "outputs": [],
   "source": [
    "import sys\n",
    "\n",
    "sys.path.append('methods')\n",
    "sys.path.append('figures')\n",
    "# !pip install -e ../package/\n",
    "\n",
    "\n",
    "from methods.route import iperf3_udp_throughput, Iperf3Out\n",
    "import json\n",
    "import matplotlib.pyplot as plt\n",
    "import numpy as np\n",
    "from pandas import DataFrame as DF\n",
    "import time\n",
    "from copy import deepcopy"
   ]
  },
  {
   "cell_type": "code",
   "execution_count": null,
   "metadata": {},
   "outputs": [],
   "source": [
    "time.sleep(10)\n",
    "# udp vars names sets by ip host\n",
    "# Disclaimer: its more easy for coder\n",
    "\n",
    "# Laptop (s) -- RPI 3 (c)\n",
    "udp3 = iperf3_udp_throughput('10.42.0.3','10.42.0.2',6262,24,40,R=True)\n",
    "udp3 = Iperf3Out(**udp3)\n",
    "\n",
    "time.sleep(5)\n",
    "# Laptop (s) -- RPI 0 (c)\n",
    "udp14 = iperf3_udp_throughput('10.42.0.14','10.42.0.2',6262,24,40,R=True)\n",
    "udp14 = Iperf3Out(**udp14)\n",
    "\n",
    "time.sleep(5)\n",
    "# Laptop (s) -- RPI 1 (c)\n",
    "udp12 = iperf3_udp_throughput('10.42.0.12','10.42.0.2',6262,24,40,R=True)\n",
    "udp12 = Iperf3Out(**udp12)\n",
    "\n",
    "time.sleep(5)\n",
    "# Laptop (s) -- RPI 2 (c)\n",
    "udp7 = iperf3_udp_throughput('10.42.0.7','10.42.0.2',6262,24,40,R=True)\n",
    "udp7 = Iperf3Out(**udp7)\n"
   ]
  },
  {
   "cell_type": "code",
   "execution_count": null,
   "metadata": {},
   "outputs": [],
   "source": [
    "udp3Mbps = [inter['sum']['bits_per_second']/(10**6) for inter in udp3.intervals]\n",
    "udp12Mbps = [inter['sum']['bits_per_second']/(10**6) for inter in udp12.intervals]\n",
    "udp7Mbps = [inter['sum']['bits_per_second']/(10**6) for inter in udp7.intervals]\n",
    "udp14Mbps = [inter['sum']['bits_per_second']/(10**6) for inter in udp14.intervals]"
   ]
  },
  {
   "cell_type": "code",
   "execution_count": null,
   "metadata": {},
   "outputs": [],
   "source": [
    "udpdf = DF(\n",
    "    np.array([udp3Mbps,udp7Mbps,udp12Mbps,udp14Mbps]).T\n",
    "    ,columns=[\n",
    "        'Laptop (s) -- RPI 3 (c)',\n",
    "        'Laptop (s) -- RPI 2 (c)',\n",
    "        'Laptop (s) -- RPI 1 (c)',\n",
    "        'Laptop (s) -- RPI 0 (c)'])"
   ]
  },
  {
   "cell_type": "markdown",
   "metadata": {},
   "source": [
    "Think something this is hard coded for vars"
   ]
  },
  {
   "cell_type": "code",
   "execution_count": null,
   "metadata": {},
   "outputs": [],
   "source": [
    "# here we set room id (0 up to 2) and action (moving status moving/standing)\n",
    "room = \"0\"\n",
    "action = \"moving\"\n",
    "dict_base = {\n",
    "    \"attribute\":{\n",
    "        \"room\": room,\n",
    "        \"action\": action\n",
    "    },\n",
    "    \"udp\": udpdf.to_dict()\n",
    "}"
   ]
  },
  {
   "cell_type": "code",
   "execution_count": null,
   "metadata": {},
   "outputs": [],
   "source": [
    "plt.figure(figsize=(16,8))\n",
    "markers = ['*', 'o', '^', 's']\n",
    "for marker, (k, v) in zip(markers, dict_base.items()):\n",
    "    udp = [vv for _, vv in v.items()]\n",
    "    plt.plot(udp,'{}-'.format(marker),label=k, markersize=12)\n",
    "\n",
    "plt.legend(fontsize=20)\n",
    "plt.xlabel(r'$time \\, (s)$', fontsize=20)\n",
    "plt.ylabel(r\"$ UDP \\, Throughput \\, (Mbps)$\", fontsize=20)\n",
    "plt.xticks(fontsize=16)\n",
    "plt.yticks(fontsize=16)\n",
    "\n",
    "save_obj = ['udp-thr-metric']\n",
    "if save_obj is not None:\n",
    "    plt.savefig('DataFigures/2ornn/{}.eps'.format(*save_obj), format='eps')"
   ]
  },
  {
   "cell_type": "code",
   "execution_count": null,
   "metadata": {},
   "outputs": [],
   "source": [
    "dataset_path = \"../data/dataset\"\n",
    "examples = \"test_data\"\n",
    "write = False\n",
    "examples_path = '{}/{}.json'.format(dataset_path, examples)\n",
    "try:\n",
    "    with open(examples_path, 'r') as json_file:\n",
    "        raw_data=json_file.read()\n",
    "    objs= json.loads(raw_data)\n",
    "except FileNotFoundError:\n",
    "    print(\"Not find path: {}\".format(examples_path))\n",
    "    objs = deepcopy(dict_base)\n",
    "\n",
    "last_example_idx = \"example\"+str((int(list(objs[\"examples\"].keys())[-1].split(\"example\")[-1])+1))\n",
    "objs[\"examples\"][last_example_idx] = dict_base\n",
    "\n",
    "\n",
    "if write:\n",
    "    print(objs[\"examples\"][last_example_idx])\n",
    "    with open(examples_path, 'w') as json_file:\n",
    "        json.dump(objs, json_file,indent=2)\n"
   ]
  },
  {
   "cell_type": "markdown",
   "metadata": {},
   "source": [
    "# PreCode"
   ]
  },
  {
   "cell_type": "code",
   "execution_count": null,
   "metadata": {},
   "outputs": [],
   "source": [
    "import json\n",
    "train = json.load(open('../data/dataset/train_data.json','r'))"
   ]
  },
  {
   "cell_type": "code",
   "execution_count": null,
   "metadata": {},
   "outputs": [],
   "source": [
    "expl30 = train['examples']['example4']['udp']\n",
    "\n",
    "plt.figure(figsize=(16,8))\n",
    "markers = ['*', 'o', '^', 's']\n",
    "for marker, (k, v) in zip(markers, expl30.items()):\n",
    "    udp = [vv for _, vv in v.items()]\n",
    "    plt.plot(udp,'{}-'.format(marker),label=k, markersize=12)\n",
    "\n",
    "plt.legend(fontsize=20)\n",
    "plt.xlabel(r'$time \\, (s)$', fontsize=20)\n",
    "plt.ylabel(r\"$ UDP \\, Throughput \\, (Mbps)$\", fontsize=20)\n",
    "plt.xticks(fontsize=16)\n",
    "plt.yticks(fontsize=16)\n",
    "\n",
    "save_obj = ['udp-thr-metric']\n",
    "plt.savefig('DataFigures/2ornn/{}.eps'.format(*save_obj), format='eps')"
   ]
  }
 ],
 "metadata": {
  "kernelspec": {
   "display_name": "PyCharm (efthymis-mcl-MSc-Thesis)",
   "language": "python",
   "name": "pycharm-97527563"
  },
  "language_info": {
   "codemirror_mode": {
    "name": "ipython",
    "version": 3
   },
   "file_extension": ".py",
   "mimetype": "text/x-python",
   "name": "python",
   "nbconvert_exporter": "python",
   "pygments_lexer": "ipython3",
   "version": "3.8.0"
  }
 },
 "nbformat": 4,
 "nbformat_minor": 2
}