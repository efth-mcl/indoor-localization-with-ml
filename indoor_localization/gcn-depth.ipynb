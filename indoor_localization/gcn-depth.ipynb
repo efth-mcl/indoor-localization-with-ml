{
 "cells": [
  {
   "cell_type": "markdown",
   "metadata": {},
   "source": [
    "# GCN Depth train example"
   ]
  },
  {
   "cell_type": "code",
   "execution_count": null,
   "metadata": {},
   "outputs": [],
   "source": [
    "import os\n",
    "import tensorflow as tf\n",
    "import numpy as np\n",
    "from algomorphism.models import GCNClassifier\n",
    "from algomorphism.methods.graphs import a2g, graphs_stats\n",
    "from algomorphism.datasets.generated_data import SimpleGraphsDataset\n",
    "import networkx as nx\n",
    "import matplotlib.pyplot as plt\n",
    "from sklearn.preprocessing import LabelBinarizer\n",
    "from itertools import product"
   ]
  },
  {
   "cell_type": "code",
   "execution_count": null,
   "outputs": [],
   "source": [
    "# optional for GPU usage\n",
    "\n",
    "# for gpu in tf.config.list_physical_devices('GPU'):\n",
    "#     print(gpu)\n",
    "#     tf.config.experimental.set_memory_growth(gpu, True)"
   ],
   "metadata": {
    "collapsed": false,
    "pycharm": {
     "name": "#%%\n"
    }
   }
  },
  {
   "cell_type": "code",
   "execution_count": null,
   "metadata": {},
   "outputs": [],
   "source": [
    "NewData = False\n",
    "DataId = 0\n",
    "saveData = False\n",
    "path = '../data/gcn-depth/GraphsDataset_{}.npy'\n",
    "if NewData:\n",
    "    graph_types = [\n",
    "        'cycle',\n",
    "        'hypercube',\n",
    "        'circular_ladder',\n",
    "        'grid'\n",
    "    ]\n",
    "    examples = 400\n",
    "    minN = 6\n",
    "    maxN = 24\n",
    "\n",
    "    sgsd = SimpleGraphsDataset(300, 6, 24)\n",
    "    sgsd.generate_dataset()\n",
    "    x, a, atld, y = sgsd.get_train_data()\n",
    "    x = tf.cast(x, tf.float32)\n",
    "    a = tf.cast(a, tf.float32)\n",
    "    atld = tf.cast(atld,tf.float32)\n",
    "    y = tf.cast(y, tf.float32)\n",
    "    if saveData:\n",
    "        di = 0\n",
    "        while True:\n",
    "            if not os.path.exists(path.format(di)):\n",
    "                np.save(path.format(di),\n",
    "                    {\n",
    "                        \"a\": a,\n",
    "                        \"atld\": atld,\n",
    "                        \"x\": x,\n",
    "                        \"y\": y\n",
    "                })\n",
    "                break\n",
    "            di += 1\n",
    "\n",
    "else:\n",
    "    a, atld, x, y = np.load(path.format(DataId), allow_pickle=True).tolist().values()\n",
    "\n",
    "maxD, depth_dist, maxDs, edgesN = graphs_stats(a)\n",
    "train = tf.data.Dataset.from_tensor_slices((atld, x, y)).batch(128)\n",
    "\n",
    "class DummyDataset(object):\n",
    "    def __init__(self, train):\n",
    "        self.train = train\n",
    "\n",
    "dd = DummyDataset(train)"
   ]
  },
  {
   "cell_type": "code",
   "execution_count": null,
   "metadata": {},
   "outputs": [],
   "source": [
    "save_fig = False\n",
    "\n",
    "vals = np.array(list(maxDs.values()))\n",
    "vals = vals/np.sum(vals)\n",
    "\n",
    "plt.figure(figsize=(16,4))\n",
    "plt.bar(maxDs.keys(),vals)\n",
    "plt.xticks(list(maxDs.keys()))\n",
    "plt.xlabel(r'$Max \\; Depths \\; \\#$', fontsize=20)\n",
    "plt.ylabel(r'$Verteces \\; \\%$', fontsize=20)\n",
    "if save_fig:\n",
    "    plt.savefig('DataFigures/gcn-depth/{}.eps'.format('max-depth-dist'),format='eps')"
   ]
  },
  {
   "cell_type": "code",
   "execution_count": null,
   "metadata": {},
   "outputs": [],
   "source": [
    "c = 0\n",
    "ymax = y.shape[1]\n",
    "for i in range(a.shape[0]):\n",
    "    if c == tf.argmax(y[i]):\n",
    "        c+=1\n",
    "        g = a2g(a[i])\n",
    "        plt.figure(figsize=(8,8))\n",
    "        nx.draw(g)\n",
    "    elif c == ymax:\n",
    "        break"
   ]
  },
  {
   "cell_type": "markdown",
   "metadata": {},
   "source": [
    "## Grid Training"
   ]
  },
  {
   "cell_type": "code",
   "execution_count": null,
   "metadata": {},
   "outputs": [],
   "source": [
    "R = list(range(min(maxDs.keys()),max(maxDs.keys())+1))\n",
    "E = list(range(100,400,100))"
   ]
  },
  {
   "cell_type": "code",
   "execution_count": null,
   "metadata": {},
   "outputs": [],
   "source": [
    "di = 0\n",
    "load_gcn_depth_results = False\n",
    "if load_gcn_depth_results:\n",
    "    NGScost = np.load(\"../data/gcn-depth/GScost_{}.npy\".format(di),allow_pickle=True)[()]\n",
    "    NGScost = NGScost[\"GScost\"]\n",
    "\n",
    "else:\n",
    "    Nexpr = 10\n",
    "\n",
    "\n",
    "    Nenum = list(product(list(range(Nexpr)), list(range(len(R))),list(range(len(E)))))\n",
    "    NGS = list(product(list(range(Nexpr)), R, E))\n",
    "\n",
    "    NGScost = np.zeros((Nexpr, len(R), len(E)))\n",
    "\n",
    "\n",
    "    for (n, r, e), (i, j,w) in zip(NGS,Nenum):\n",
    "        df_list = [a.shape[1]] + [8]*r\n",
    "        mygcn = GCNClassifier(dd, df_list, 4)\n",
    "        mygcn.train(dd, e, print_types=None)\n",
    "        cost = mygcn.cost_mtr.metric_dataset(dd.train)\n",
    "        NGScost[i,j,w] = cost\n",
    "        print('n exp: {}, r: {}, e: {}, cost: {}'.format(n,r,e,cost))\n",
    "\n",
    "\n",
    "\n",
    "    while True:\n",
    "        if not os.path.exists(\"GScost_{}.npy\".format(di)):\n",
    "            np.save(\"GScost_{}.npy\".format(di),\n",
    "                {\n",
    "                    \"GScost\": NGScost\n",
    "            })\n",
    "            break\n",
    "        di += 1"
   ]
  },
  {
   "cell_type": "code",
   "execution_count": null,
   "metadata": {},
   "outputs": [],
   "source": [
    "cost_mean = NGScost.mean(axis=(0,2))\n",
    "cost_std = NGScost.std(axis=(0,2))"
   ]
  },
  {
   "cell_type": "code",
   "execution_count": null,
   "metadata": {
    "pycharm": {
     "name": "#%%\n"
    }
   },
   "outputs": [],
   "source": [
    "save_fig = False\n",
    "\n",
    "cost_mean_min = np.min(cost_mean)\n",
    "cost_mean_argmin = np.argmin(cost_mean)\n",
    "\n",
    "plt.figure(figsize=(16,8))\n",
    "plt.subplot(2,1,1)\n",
    "plt.plot(R, cost_mean, 'o-')\n",
    "plt.plot(R[cost_mean_argmin],cost_mean_min,'*r', markersize=12,label=r'$min \\; cost$')\n",
    "plt.legend(fontsize=12)\n",
    "plt.xlabel(r'$GCN \\; Depth \\; \\#$', fontsize=20)\n",
    "plt.ylabel(r'$Mean \\; Cost$', fontsize=20)\n",
    "plt.fill_between(R, cost_mean - cost_std,\n",
    "                     cost_mean + cost_std, alpha=0.1,\n",
    "                     color=\"b\")\n",
    "\n",
    "if save_fig:\n",
    "    plt.savefig('DataFigures/gcn-depth/{}.eps'.format('max-depth-grid-train'),format='eps')"
   ]
  }
 ],
 "metadata": {
  "kernelspec": {
   "name": "python3",
   "language": "python",
   "display_name": "Python 3"
  },
  "language_info": {
   "codemirror_mode": {
    "name": "ipython",
    "version": 3
   },
   "file_extension": ".py",
   "mimetype": "text/x-python",
   "name": "python",
   "nbconvert_exporter": "python",
   "pygments_lexer": "ipython3",
   "version": "3.8.0"
  }
 },
 "nbformat": 4,
 "nbformat_minor": 2
}