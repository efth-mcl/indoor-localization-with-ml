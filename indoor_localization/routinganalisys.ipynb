{
 "cells": [
  {
   "cell_type": "code",
   "execution_count": null,
   "metadata": {},
   "outputs": [],
   "source": [
    "import sys\n",
    "sys.path.append('figures')\n",
    "sys.path.append('methods')\n",
    "\n",
    "\n",
    "from pandas import DataFrame as DF\n",
    "import glob\n",
    "import json\n",
    "from figures.route import *"
   ]
  },
  {
   "cell_type": "markdown",
   "metadata": {},
   "source": [
    "## Load Data"
   ]
  },
  {
   "cell_type": "code",
   "execution_count": null,
   "metadata": {},
   "outputs": [],
   "source": [
    "data_paths_targets = ['line_graph', 'complite_graph', 'babeld']"
   ]
  },
  {
   "cell_type": "code",
   "execution_count": null,
   "metadata": {},
   "outputs": [],
   "source": [
    "class MetricsObj(object):\n",
    "\n",
    "    def __init__(self, metrics_folder):\n",
    "        metrics_path = \"../data/routing/{}/*.json\"\n",
    "        for json_path in glob.glob(metrics_path.format(metrics_folder)):\n",
    "            name_obj = json_path.split(\"/\")[-1].split('.')[0]\n",
    "            name_obj = 'dBm{}'.format(name_obj.split('d')[0])\n",
    "            with open(json_path, 'r') as jsonfile_obj:\n",
    "                metrics_dict = json.load(jsonfile_obj)\n",
    "                setattr(self, name_obj, metrics_dict)"
   ]
  },
  {
   "cell_type": "code",
   "execution_count": null,
   "metadata": {},
   "outputs": [],
   "source": [
    "line_graph_matrics_obj = MetricsObj('line_graph')\n",
    "complite_graph_matrics_obj = MetricsObj('complite_graph')\n",
    "babeld_matrics_obj = MetricsObj('babeld')"
   ]
  },
  {
   "cell_type": "markdown",
   "metadata": {},
   "source": [
    "## show udp_throughput/time\n"
   ]
  },
  {
   "cell_type": "code",
   "execution_count": null,
   "metadata": {},
   "outputs": [],
   "source": [
    "# complte graph\n",
    "print(\"complte graph\")\n",
    "\n",
    "print(\"10dBm\")\n",
    "save_obj = ['complite_graph', \"10dBm\"]\n",
    "udp_figure(complite_graph_matrics_obj.dBm10,save_obj=None)\n",
    "\n",
    "print(\"20dBm\")\n",
    "save_obj = ['complite_graph', \"20dBm\"]\n",
    "udp_figure(complite_graph_matrics_obj.dBm20, save_obj=None)\n",
    "\n",
    "print(\"31dBm\")\n",
    "save_obj = ['complite_graph', \"31dBm\"]\n",
    "udp_figure(complite_graph_matrics_obj.dBm31, save_obj=None)\n",
    "\n",
    "\n",
    "# line graph\n",
    "print(\"line graph\")\n",
    "\n",
    "print(\"10dBm\")\n",
    "save_obj = ['line_graph', \"10dBm\"]\n",
    "udp_figure(line_graph_matrics_obj.dBm10,save_obj=None)\n",
    "\n",
    "print(\"20dBm\")\n",
    "save_obj = ['line_graph', \"20dBm\"]\n",
    "udp_figure(line_graph_matrics_obj.dBm20, save_obj=None)\n",
    "\n",
    "print(\"31dBm\")\n",
    "save_obj = ['line_graph', \"31dBm\"]\n",
    "udp_figure(line_graph_matrics_obj.dBm31, save_obj=None)\n",
    "\n",
    "\n",
    "# babel\n",
    "print(\"babeld\")\n",
    "\n",
    "print(\"10dBm\")\n",
    "save_obj = ['babeld', \"10dBm\"]\n",
    "udp_figure(babeld_matrics_obj.dBm10, save_obj=None)\n",
    "\n",
    "print(\"20dBm\")\n",
    "save_obj = ['babeld', \"20dBm\"]\n",
    "udp_figure(babeld_matrics_obj.dBm20, save_obj=None)\n",
    "\n",
    "print(\"31dBm\")\n",
    "save_obj = ['babeld', \"31dBm\"]\n",
    "udp_figure(babeld_matrics_obj.dBm31, save_obj=None)"
   ]
  },
  {
   "cell_type": "markdown",
   "metadata": {},
   "source": [
    "## show mean udp_throughput for every topology per dBm (thing for this)"
   ]
  },
  {
   "cell_type": "code",
   "execution_count": null,
   "metadata": {},
   "outputs": [],
   "source": [
    "def avgsdBm_dataframe(matrics_obj):\n",
    "    avgsdBm10 = []\n",
    "    for values in matrics_obj.dBm10.values():\n",
    "        avgsdBm10.append(np.average(values))\n",
    "\n",
    "    avgsdBm20 = []\n",
    "    for values in matrics_obj.dBm20.values():\n",
    "        avgsdBm20.append(np.average(values))\n",
    "\n",
    "    avgsdBm31 = []\n",
    "    for values in matrics_obj.dBm31.values():\n",
    "        avgsdBm31.append(np.average(values))\n",
    "\n",
    "    avgsdBm = np.array([avgsdBm10,avgsdBm20,avgsdBm31])\n",
    "    avgsdBm = DF(avgsdBm,\n",
    "        index=[\"10 dBm\", \"20 dBm\", \"31 dBm\"],\n",
    "        columns=list(matrics_obj.dBm10.keys())\n",
    "        )\n",
    "    return avgsdBm\n",
    "\n",
    "\n",
    "# complite graph\n",
    "print(\"complite graph\")\n",
    "avgsdBm_df = avgsdBm_dataframe(complite_graph_matrics_obj)\n",
    "print(avgsdBm_df)\n",
    "save_obj = ['complite_graph', \"mean-per-dBm\"]\n",
    "mean_udp_per_dBm_bar_figure(avgsdBm_df, save_obj=None)\n",
    "\n",
    "# line graph\n",
    "print(\"line graph\")\n",
    "avgsdBm_df = avgsdBm_dataframe(line_graph_matrics_obj)\n",
    "print(avgsdBm_df)\n",
    "save_obj = ['line_graph', \"mean-per-dBm\"]\n",
    "mean_udp_per_dBm_bar_figure(avgsdBm_df, save_obj=None)\n",
    "\n",
    "# babeld\n",
    "print(\"babeld\")\n",
    "avgsdBm_df = avgsdBm_dataframe(babeld_matrics_obj)\n",
    "print(avgsdBm_df)\n",
    "save_obj = ['babeld', \"mean-per-dBm\"]\n",
    "mean_udp_per_dBm_bar_figure(avgsdBm_df, save_obj=None)"
   ]
  },
  {
   "cell_type": "markdown",
   "metadata": {},
   "source": [
    "## show mean udp_throughput per rpi per dBm for line_graph with mathmodel in all plots"
   ]
  },
  {
   "cell_type": "code",
   "execution_count": null,
   "metadata": {},
   "outputs": [],
   "source": [
    "    \n",
    "\n",
    "def means_per_txpower(matrics_obj):\n",
    "\n",
    "    def mean_txpower(matrics_dict):\n",
    "        avg = []\n",
    "        for _, rpi_metrics in matrics_dict.items():\n",
    "            avg.append(np.average(rpi_metrics))\n",
    "    \n",
    "        return avg\n",
    "\n",
    "    # find way to get objects (dBm10,20,31...) for \"for loop\"\n",
    "    avg10 = mean_txpower(matrics_obj.dBm10)\n",
    "    avg20 = mean_txpower(matrics_obj.dBm20)\n",
    "    avg31 = mean_txpower(matrics_obj.dBm31)\n",
    "\n",
    "    avgs = np.concatenate([[avg10], [avg20], [avg31]],axis=0)\n",
    "    return avgs\n",
    "\n",
    "\n",
    "\n",
    "\n",
    "save_obj = ['comparison','3d-mean-per-rpi']\n",
    "line = means_per_txpower(line_graph_matrics_obj)\n",
    "complite = means_per_txpower(complite_graph_matrics_obj)\n",
    "babeld = means_per_txpower(babeld_matrics_obj)\n",
    "mean_udp_bar3d_figure(complite, line, babeld,save_obj=None)"
   ]
  },
  {
   "cell_type": "code",
   "execution_count": null,
   "metadata": {
    "pycharm": {
     "name": "#%%\n"
    }
   },
   "outputs": [],
   "source": [
    "def means_model_vals(objdBm):\n",
    "    means_vals = []\n",
    "    model_vals = []\n",
    "    model_val0 = None\n",
    "    model_ratio = None\n",
    "\n",
    "    for i, (key, value) in enumerate(objdBm.items()):\n",
    "        mean_val = np.mean(value)\n",
    "        means_vals.append(mean_val)\n",
    "        h = i+1\n",
    "        if key == 'RPI 0 (c) -- RPI 1 (s)':\n",
    "            model_val0 = mean_val\n",
    "            model_val = model_val0\n",
    "            model_vals.append(model_val)\n",
    "        elif key == 'RPI 0 (c) -- RPI 2 (s)':\n",
    "            model_val1 = mean_val\n",
    "            model_ratio = model_val0/model_val1\n",
    "            model_val = model_val0*model_ratio**(1-h)\n",
    "            model_vals.append(model_val)\n",
    "        else:\n",
    "            model_val = model_val0*model_ratio**(1-h)\n",
    "            model_vals.append(model_val)\n",
    "\n",
    "    \n",
    "    return means_vals, model_vals, model_ratio\n",
    "\n",
    "\n",
    "save_obj_base = ['line_graph']\n",
    "\n",
    "# dBm10\n",
    "print('dBm10')\n",
    "save_obj = save_obj_base+['10dBm-model']\n",
    "means_vals, model_vals, a = means_model_vals(line_graph_matrics_obj.dBm10)\n",
    "model_feagure(means_vals, model_vals, legend_fontsize=28, markersize=15, axes_label_fontsize=28, ticks_fontsize=24, save_obj=None)\n",
    "print(\"a:\",a)\n",
    "\n",
    "# dBm20\n",
    "print('dBm20')\n",
    "save_obj = save_obj_base+['20dBm-model']\n",
    "means_vals, model_vals, a = means_model_vals(line_graph_matrics_obj.dBm20)\n",
    "model_feagure(means_vals, model_vals, legend_fontsize=28, markersize=15, axes_label_fontsize=28, ticks_fontsize=24, save_obj=None)\n",
    "print(\"a:\",a)\n",
    "\n",
    "# dBm31\n",
    "print('dBm31')\n",
    "save_obj = save_obj_base+['31dBm-model']\n",
    "means_vals, model_vals, a = means_model_vals(line_graph_matrics_obj.dBm31)\n",
    "model_feagure(means_vals, model_vals, legend_fontsize=28, markersize=15, axes_label_fontsize=28, ticks_fontsize=24, save_obj=None)\n",
    "print(\"a:\",a)\n"
   ]
  }
 ],
 "metadata": {
  "kernelspec": {
   "name": "python3",
   "language": "python",
   "display_name": "Python 3"
  },
  "language_info": {
   "codemirror_mode": {
    "name": "ipython",
    "version": 3
   },
   "file_extension": ".py",
   "mimetype": "text/x-python",
   "name": "python",
   "nbconvert_exporter": "python",
   "pygments_lexer": "ipython3",
   "version": "3.8.0"
  }
 },
 "nbformat": 4,
 "nbformat_minor": 2
}