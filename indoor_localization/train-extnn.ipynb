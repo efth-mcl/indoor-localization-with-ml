{
 "cells": [
  {
   "cell_type": "markdown",
   "metadata": {
    "collapsed": true,
    "pycharm": {
     "name": "#%% md\n"
    }
   },
   "source": [
    "# Extended NN"
   ]
  },
  {
   "cell_type": "code",
   "execution_count": null,
   "metadata": {
    "collapsed": false,
    "pycharm": {
     "name": "#%%\n"
    }
   },
   "outputs": [],
   "source": [
    "import json\n",
    "import os\n",
    "import tensorflow as tf\n",
    "from models import ExtendedNN\n",
    "from datasets import ENNDataset, SGAE_dataset\n",
    "from algomorphism.figure.opt import multiple_models_history_figure, pca_denoising_figure, print_confmtx\n",
    "from algomorphism.method.opt import pca_denoising_preprocessing\n",
    "from algomorphism.dataset.datasets.structure import FromEdgesListExamples\n",
    "from sklearn.neighbors import KNeighborsClassifier"
   ]
  },
  {
   "cell_type": "code",
   "execution_count": null,
   "metadata": {
    "collapsed": false,
    "pycharm": {
     "name": "#%%\n"
    }
   },
   "outputs": [],
   "source": [
    "# optional for GPU usage\n",
    "\n",
    "# for gpu in tf.config.list_physical_devices('GPU'):\n",
    "#     print(gpu)\n",
    "#     tf.config.experimental.set_memory_growth(gpu, True)"
   ]
  },
  {
   "cell_type": "code",
   "execution_count": null,
   "metadata": {
    "collapsed": false,
    "pycharm": {
     "name": "#%%\n"
    }
   },
   "outputs": [],
   "source": [
    "embs_id = '64'\n",
    "embsD = 64\n",
    "labels = ['0','1','2']\n",
    "# all combinations seen (s), unseen (u):\n",
    "    # {s: ['0','1'], u:['2']}, {s: ['0','2'], u:['1']}, {s: ['1','2'], u:['0']}\n",
    "\n",
    "seen_labels = ['0','1']\n",
    "unseen_labels = ['2']\n",
    "outfilekey = 's-{}-u-{}'.format('-'.join(seen_labels), '-'.join(unseen_labels))\n",
    "extd = ENNDataset(embs_id, '.')"
   ]
  },
  {
   "cell_type": "code",
   "execution_count": null,
   "metadata": {
    "collapsed": false,
    "pycharm": {
     "name": "#%%\n"
    }
   },
   "outputs": [],
   "source": [
    "knn = KNeighborsClassifier(1)\n",
    "r_emb = extd.r_emb_disct_preprosesing(seen_labels, unseen_labels)\n",
    "X = tf.concat([r_emb[label].reshape(1,-1) for label in r_emb.keys()],axis=0)\n",
    "Xall = tf.concat([r_emb[key].reshape(1,-1) for key in r_emb.keys()],axis=0)\n",
    "labels_all = list(r_emb.keys())\n",
    "Y = extd.get_r_onehot_from_labels([label for label in r_emb.keys()])\n",
    "knn.fit(X,Y)"
   ]
  },
  {
   "cell_type": "code",
   "execution_count": null,
   "metadata": {
    "collapsed": false,
    "pycharm": {
     "name": "#%%\n"
    }
   },
   "outputs": [],
   "source": [
    "eld = FromEdgesListExamples(SGAE_dataset['route_links'])\n",
    "\n",
    "w_p = float(eld.a.shape[1]*eld.a.shape[2] * eld.a.shape[2] - tf.reduce_sum(eld.a)) / tf.reduce_sum(eld.a)\n",
    "norm = eld.a.shape[1] * eld.a.shape[2] / float((eld.a.shape[1] * eld.a.shape[2] - tf.reduce_sum(eld.a)) * 2)\n",
    "norm = tf.cast(norm, tf.float32)\n",
    "w_p = tf.cast(w_p, tf.float32)\n",
    "a_dim = eld.a.shape[1]\n",
    "lamda = 1e-2\n",
    "\n",
    "enn = ExtendedNN(extd, embsD,[a_dim,64], w_p=w_p, norm=norm, knn=knn,learning_rate=1e-1, early_stop_vars=None, lamda=lamda)"
   ]
  },
  {
   "cell_type": "code",
   "execution_count": null,
   "metadata": {
    "collapsed": false,
    "pycharm": {
     "name": "#%%\n"
    }
   },
   "outputs": [],
   "source": [
    "enn.train(extd, 100, print_types=['train', 'val'])"
   ]
  },
  {
   "cell_type": "code",
   "execution_count": null,
   "metadata": {
    "collapsed": false,
    "pycharm": {
     "name": "#%%\n"
    }
   },
   "outputs": [],
   "source": [
    "save_history_to_file = False\n",
    "if save_history_to_file:\n",
    "    if not os.path.exists('./data/extnn/'):\n",
    "        os.makedirs('./data/extnn/')\n",
    "    with open('./data/extnn/history-{}.json'.format(outfilekey), 'w') as outfile:\n",
    "        json.dump(enn.history, outfile, indent=4)"
   ]
  },
  {
   "cell_type": "code",
   "execution_count": null,
   "metadata": {
    "collapsed": false,
    "pycharm": {
     "name": "#%%\n"
    }
   },
   "outputs": [],
   "source": [
    "save_obj = ['.','indoor_localization','extnn', 'cost-score', outfilekey]\n",
    "multiple_models_history_figure([enn], save_obj=None)"
   ]
  },
  {
   "cell_type": "code",
   "execution_count": null,
   "metadata": {
    "collapsed": false,
    "pycharm": {
     "name": "#%%\n"
    }
   },
   "outputs": [],
   "source": [
    "val_seen = enn.score_mtr.metric_dataset(extd.val.seen)\n",
    "val_unseen = enn.score_mtr.metric_dataset(extd.val.unseen)\n",
    "\n",
    "print('val seen', val_seen)\n",
    "print('val unseen', val_unseen)\n",
    "print('HM', 2*val_seen*val_unseen/(val_seen + val_unseen))\n",
    "\n",
    "\n",
    "print_confmtx(enn, extd, outfilekey+'_r_', -2, -2)\n",
    "print_confmtx(enn, extd, outfilekey+'_a_', -1, -1)"
   ]
  },
  {
   "cell_type": "code",
   "execution_count": null,
   "metadata": {
    "collapsed": false,
    "pycharm": {
     "name": "#%%\n"
    }
   },
   "outputs": [],
   "source": [
    "pca_dict, pca_emb, knn_pca= pca_denoising_preprocessing(enn, extd, X, Y, pca_emb_idxs=[0, 1, 2], emb_idx=-2 ,example_predicted_types=['val_seen', 'val_unseen'])\n",
    "save_obj = ['.','indoor_localization','extnn', 'node-emb', outfilekey]\n",
    "pca_denoising_figure(pca_dict, pca_emb, knn_pca, r_emb.keys(), save_obj=None, pca_emb_idxs=[0,1,2])"
   ]
  }
 ],
 "metadata": {
  "kernelspec": {
   "display_name": "Python 3",
   "language": "python",
   "name": "python3"
  },
  "language_info": {
   "codemirror_mode": {
    "name": "ipython",
    "version": 3
   },
   "file_extension": ".py",
   "mimetype": "text/x-python",
   "name": "python",
   "nbconvert_exporter": "python",
   "pygments_lexer": "ipython3",
   "version": "3.10.12"
  }
 },
 "nbformat": 4,
 "nbformat_minor": 0
}
