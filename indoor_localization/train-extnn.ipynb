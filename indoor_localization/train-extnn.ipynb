{
 "cells": [
  {
   "cell_type": "markdown",
   "metadata": {
    "collapsed": true,
    "pycharm": {
     "name": "#%% md\n"
    }
   },
   "source": []
  },
  {
   "cell_type": "code",
   "execution_count": null,
   "outputs": [],
   "source": [
    "import json\n",
    "import tensorflow as tf\n",
    "from thesispack.models import ExtendedNN\n",
    "from thesispack.datasets import ENNdataset, SGAE_dataset\n",
    "from thesispack.methods import history_figure, pca_denoising_figure\n",
    "from thesispack.methods import pca_denoising_preprocessing, print_confmtx, list2graph\n",
    "from sklearn.neighbors import KNeighborsClassifier"
   ],
   "metadata": {
    "collapsed": false,
    "pycharm": {
     "name": "#%%\n"
    }
   }
  },
  {
   "cell_type": "code",
   "execution_count": null,
   "outputs": [],
   "source": [
    "embs_id = '32'\n",
    "embsD = 32\n",
    "labels = ['0','1','2']\n",
    "# all combinations seen (s), unseen (u):\n",
    "    # {s: ['0','1'], u:['2']}, {s: ['0','2'], u:['1']}, {s: ['1','2'], u:['0']}\n",
    "\n",
    "seen_labels = ['0','2']\n",
    "unseen_labels = ['1']\n",
    "outfilekey = 's-{}-u-{}'.format('-'.join(seen_labels), '-'.join(unseen_labels))\n",
    "extd = ENNdataset('32', '.')"
   ],
   "metadata": {
    "collapsed": false,
    "pycharm": {
     "name": "#%%\n"
    }
   }
  },
  {
   "cell_type": "code",
   "execution_count": null,
   "outputs": [],
   "source": [
    "knn = KNeighborsClassifier(1)\n",
    "r_emb = extd.get_r_embs_dict()\n",
    "X = tf.concat([r_emb[label].reshape(1,-1) for label in labels],axis=0)\n",
    "Xall = tf.concat([r_emb[key].reshape(1,-1) for key in r_emb.keys()],axis=0)\n",
    "labels_all = list(r_emb.keys())\n",
    "Y = extd.get_r_onehot_from_labels([label for label in labels])\n",
    "knn.fit(X, Y)"
   ],
   "metadata": {
    "collapsed": false,
    "pycharm": {
     "name": "#%%\n"
    }
   }
  },
  {
   "cell_type": "code",
   "execution_count": null,
   "outputs": [],
   "source": [
    "_, A, _ = list2graph(SGAE_dataset['route_links'])\n",
    "w_p = float(A.shape[1]*A.shape[2] * A.shape[2] - tf.reduce_sum(A)) / tf.reduce_sum(A)\n",
    "norm = A.shape[1] * A.shape[2] / float((A.shape[1] * A.shape[2] - tf.reduce_sum(A)) * 2)\n",
    "A = A.shape[1]"
   ],
   "metadata": {
    "collapsed": false,
    "pycharm": {
     "name": "#%%\n"
    }
   }
  },
  {
   "cell_type": "code",
   "execution_count": null,
   "outputs": [],
   "source": [
    "enn = ExtendedNN(embsD,[A.shape[1],64], w_p=w_p, norm=norm, knn=knn,learning_rate=1e-1, early_stop_vars=None)\n",
    "enn.train(extd.train, 10, extd.val, extd.test, history_learning_process=True)"
   ],
   "metadata": {
    "collapsed": false,
    "pycharm": {
     "name": "#%%\n"
    }
   }
  },
  {
   "cell_type": "code",
   "execution_count": null,
   "outputs": [],
   "source": [
    "save_history_to_file = False\n",
    "if save_history_to_file:\n",
    "    with open('./data/extnn/history-{}.json'.format(outfilekey), 'w') as outfile:\n",
    "        json.dump(enn.history, outfile, indent=4)"
   ],
   "metadata": {
    "collapsed": false,
    "pycharm": {
     "name": "#%%\n"
    }
   }
  },
  {
   "cell_type": "code",
   "execution_count": null,
   "outputs": [],
   "source": [
    "save_obj = ['.','indoor_localization','extnn', 'cost-score', outfilekey]\n",
    "history_figure(enn.history, save_obj=None)"
   ],
   "metadata": {
    "collapsed": false,
    "pycharm": {
     "name": "#%%\n"
    }
   }
  },
  {
   "cell_type": "code",
   "execution_count": null,
   "outputs": [],
   "source": [
    "enn.set_score_mode(True)\n",
    "print('val', enn.score_mtr.metric_dataset(extd.val))\n",
    "print('test', enn.score_mtr.metric_dataset(extd.test))\n",
    "print('HM', enn.score_mtr.metric_dataset(extd.test)*2*enn.score_mtr.metric_dataset(extd.val)/(enn.score_mtr.metric_dataset(extd.val)+enn.score_mtr.metric_dataset(extd.test)))\n",
    "enn.set_score_mode(False)\n",
    "\n",
    "print_confmtx(enn, extd, outfilekey, [1,2])\n",
    "(_, outs_train, p_train), _, _ = enn.get_results(extd, True)"
   ],
   "metadata": {
    "collapsed": false,
    "pycharm": {
     "name": "#%%\n"
    }
   }
  },
  {
   "cell_type": "code",
   "execution_count": null,
   "outputs": [],
   "source": [
    "pca_vl, pca_ts, pca_emb, knn_pca = pca_denoising_preprocessing(enn, extd, Xall, Y, 1)\n",
    "save_obj = ['.','indoor_localization','extnn', 'node-emb', outfilekey]\n",
    "pca_denoising_figure(pca_vl ,pca_ts, pca_emb, knn_pca, labels_all, save_obj=None)"
   ],
   "metadata": {
    "collapsed": false,
    "pycharm": {
     "name": "#%%\n"
    }
   }
  }
 ],
 "metadata": {
  "kernelspec": {
   "display_name": "Python 3",
   "language": "python",
   "name": "python3"
  },
  "language_info": {
   "codemirror_mode": {
    "name": "ipython",
    "version": 2
   },
   "file_extension": ".py",
   "mimetype": "text/x-python",
   "name": "python",
   "nbconvert_exporter": "python",
   "pygments_lexer": "ipython2",
   "version": "2.7.6"
  }
 },
 "nbformat": 4,
 "nbformat_minor": 0
}