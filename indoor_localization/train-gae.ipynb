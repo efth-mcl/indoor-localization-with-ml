{
 "cells": [
  {
   "cell_type": "code",
   "execution_count": null,
   "metadata": {
    "tags": [],
    "pycharm": {
     "is_executing": true
    }
   },
   "outputs": [],
   "source": [
    "# !pip install -e ../package/\n",
    "import tensorflow as tf\n",
    "from thesispack.models import miniGAE\n",
    "from thesispack.datasets import GaeDataset\n",
    "from thesispack.figures.nn import history_figure\n",
    "from thesispack.methods.graphs import A2G\n",
    "import networkx as nx\n",
    "import matplotlib.pyplot as plt\n",
    "from sklearn.decomposition import PCA"
   ]
  },
  {
   "cell_type": "code",
   "execution_count": null,
   "outputs": [],
   "source": [
    "# optional for GPU usage\n",
    "# for gpu in tf.config.list_physical_devices('GPU'):\n",
    "#     print(gpu)\n",
    "#     tf.config.experimental.set_memory_growth(gpu, True)"
   ],
   "metadata": {
    "collapsed": false,
    "pycharm": {
     "name": "#%%\n",
     "is_executing": true
    }
   }
  },
  {
   "cell_type": "code",
   "execution_count": null,
   "metadata": {},
   "outputs": [],
   "source": [
    "gaed = GaeDataset()"
   ]
  },
  {
   "cell_type": "code",
   "execution_count": null,
   "metadata": {},
   "outputs": [],
   "source": [
    "for x, atld, a in gaed.train:\n",
    "    A = a\n",
    "    X = x\n",
    "    Atld = atld"
   ]
  },
  {
   "cell_type": "code",
   "execution_count": null,
   "metadata": {},
   "outputs": [],
   "source": [
    "w_p = float(A.shape[0]*A.shape[1] * A.shape[1] - tf.reduce_sum(A)) / tf.reduce_sum(A)\n",
    "norm = A.shape[1] * A.shape[2] / float((A.shape[1] * A.shape[2] - tf.reduce_sum(A)) * 2)\n",
    "gae = miniGAE(A.shape[1],w_p, norm=norm, optimizer=\"Adam\", learning_rate=1e-2)"
   ]
  },
  {
   "cell_type": "code",
   "execution_count": null,
   "metadata": {
    "tags": [
     "outputPrepend"
    ]
   },
   "outputs": [],
   "source": [
    "gae.train(gaed.train,150,history_learning_process=True)"
   ]
  },
  {
   "cell_type": "code",
   "execution_count": null,
   "metadata": {},
   "outputs": [],
   "source": [
    "plt.imshow(tf.nn.sigmoid(gae([X,Atld])[0]).numpy()[0])"
   ]
  },
  {
   "cell_type": "code",
   "execution_count": null,
   "metadata": {},
   "outputs": [],
   "source": [
    "g = A2G(A[0])\n",
    "nx.draw(g, with_labels=True,font_size=20,node_size=600)"
   ]
  },
  {
   "cell_type": "code",
   "execution_count": null,
   "metadata": {},
   "outputs": [],
   "source": [
    "if any(gae.history.values()):\n",
    "    history_figure(gae.history)"
   ]
  },
  {
   "cell_type": "code",
   "execution_count": null,
   "metadata": {},
   "outputs": [],
   "source": [
    "plt.imshow(Atld[0],vmin=0,vmax=1)"
   ]
  },
  {
   "cell_type": "code",
   "execution_count": null,
   "metadata": {},
   "outputs": [],
   "source": [
    "idx_save = \"32\"\n",
    "idx_load = \"\""
   ]
  },
  {
   "cell_type": "code",
   "execution_count": null,
   "metadata": {},
   "outputs": [],
   "source": [
    "emb = gae.encoder(X,Atld)\n",
    "emb_flat = tf.concat([*emb[:]],axis=0)\n",
    "Labels = ['0', '1', '2', '3', '4', '5']\n",
    "zero_embs_idx = tf.where(tf.reduce_sum(tf.cast(emb_flat == 0, tf.int16),axis=1)<emb_flat.shape[1])[:,0]\n",
    "emb_flat = (emb_flat-tf.reduce_mean(emb_flat))/tf.math.reduce_std(emb_flat)\n",
    "emb_flat = tf.nn.tanh(emb_flat)\n",
    "emb_flat = tf.gather(emb_flat, zero_embs_idx)\n",
    "emb_flat_dict = dict(zip(Labels,emb_flat.numpy()))"
   ]
  },
  {
   "cell_type": "code",
   "execution_count": null,
   "outputs": [],
   "source": [
    "# np.save(\"../data/gae/gae-node-embs{}\".format(idx_save), emb_flat_dict)\n"
   ],
   "metadata": {
    "collapsed": false,
    "pycharm": {
     "name": "#%%\n"
    }
   }
  },
  {
   "cell_type": "code",
   "execution_count": null,
   "metadata": {},
   "outputs": [],
   "source": [
    "pca = PCA(n_components=2)\n",
    "pca_emb = pca.fit_transform(emb_flat)"
   ]
  },
  {
   "cell_type": "code",
   "execution_count": null,
   "metadata": {
    "pycharm": {
     "name": "#%%\n"
    }
   },
   "outputs": [],
   "source": [
    "plt.figure(figsize=(10,5))\n",
    "plt.plot(pca_emb[:,0], pca_emb[:,1],'o', label='node embeddings', markersize=15)\n",
    "\n",
    "for (v,l) in zip(pca_emb, Labels):\n",
    "    plt.text(v[0],v[1],l,fontsize=20)\n",
    "plt.legend()\n",
    "# plt.savefig('DataFigures/gae/node-embs.eps', format='eps')"
   ]
  }
 ],
 "metadata": {
  "kernelspec": {
   "name": "python3",
   "language": "python",
   "display_name": "Python 3"
  },
  "language_info": {
   "codemirror_mode": {
    "name": "ipython",
    "version": 3
   },
   "file_extension": ".py",
   "mimetype": "text/x-python",
   "name": "python",
   "nbconvert_exporter": "python",
   "pygments_lexer": "ipython3",
   "version": "3.8.0"
  }
 },
 "nbformat": 4,
 "nbformat_minor": 2
}