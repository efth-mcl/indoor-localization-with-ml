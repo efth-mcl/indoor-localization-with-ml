{
 "cells": [
  {
   "cell_type": "code",
   "execution_count": null,
   "metadata": {
    "tags": []
   },
   "outputs": [],
   "source": [
    "import tensorflow as tf\n",
    "from algomorphism.model.models import GAE\n",
    "from datasets import GaeDataset\n",
    "from algomorphism.figure.opt import multiple_models_history_figure\n",
    "from algomorphism.method.graph import a2g\n",
    "import networkx as nx\n",
    "import matplotlib.pyplot as plt\n",
    "from sklearn.decomposition import PCA\n",
    "import numpy as np\n",
    "import os"
   ]
  },
  {
   "cell_type": "code",
   "execution_count": null,
   "metadata": {
    "collapsed": false,
    "pycharm": {
     "name": "#%%\n"
    }
   },
   "outputs": [],
   "source": [
    "# optional for GPU usage\n",
    "\n",
    "# for gpu in tf.config.list_physical_devices('GPU'):\n",
    "#     print(gpu)\n",
    "#     tf.config.experimental.set_memory_growth(gpu, True)"
   ]
  },
  {
   "cell_type": "code",
   "execution_count": null,
   "metadata": {},
   "outputs": [],
   "source": [
    "gaed = GaeDataset()"
   ]
  },
  {
   "cell_type": "code",
   "execution_count": null,
   "metadata": {},
   "outputs": [],
   "source": [
    "for x, atld, a in gaed.train:\n",
    "    A = a\n",
    "    X = x\n",
    "    Atld = atld"
   ]
  },
  {
   "cell_type": "code",
   "execution_count": null,
   "metadata": {},
   "outputs": [],
   "source": [
    "w_p = float(A.shape[0]*A.shape[1] * A.shape[1] - tf.reduce_sum(A)) / tf.reduce_sum(A)\n",
    "norm = A.shape[1] * A.shape[2] / float((A.shape[1] * A.shape[2] - tf.reduce_sum(A)) * 2)\n",
    "\n",
    "df_list = [A.shape[1], 32, 64]\n",
    "\n",
    "adam = tf.keras.optimizers.Adam()\n",
    "gae = GAE(gaed, df_list ,w_p, norm=norm, optimizer=adam, learning_rate=1e-4, ip_weights=True)"
   ]
  },
  {
   "cell_type": "code",
   "execution_count": null,
   "metadata": {
    "tags": [
     "outputPrepend"
    ]
   },
   "outputs": [],
   "source": [
    "gae.set_lr_rate(1e-2)\n",
    "gae.set_clip_norm(0.0)\n",
    "gae.train(gaed, 200)"
   ]
  },
  {
   "cell_type": "code",
   "execution_count": null,
   "metadata": {},
   "outputs": [],
   "source": [
    "ahat = tf.nn.sigmoid(gae([X,Atld])[0]).numpy()[0]\n",
    "plt.imshow(ahat, vmin=0, vmax=1)\n",
    "ahat"
   ]
  },
  {
   "cell_type": "code",
   "execution_count": null,
   "metadata": {},
   "outputs": [],
   "source": [
    "g = a2g((ahat>0.5).astype(int))\n",
    "nx.draw(g, with_labels=True,font_size=20,node_size=600)"
   ]
  },
  {
   "cell_type": "code",
   "execution_count": null,
   "metadata": {},
   "outputs": [],
   "source": [
    "if any(gae.history.values()):\n",
    "    multiple_models_history_figure([gae])"
   ]
  },
  {
   "cell_type": "code",
   "execution_count": null,
   "metadata": {},
   "outputs": [],
   "source": [
    "idx_save = \"64\"\n",
    "idx_load = \"\""
   ]
  },
  {
   "cell_type": "code",
   "execution_count": null,
   "metadata": {},
   "outputs": [],
   "source": [
    "Labels = ['0', '1', '2', '3', '4', '5']\n",
    "emb = gae.encoder(X,Atld)\n",
    "emb = emb[0]\n",
    "emb_dict = dict(zip(Labels,emb.numpy()))\n",
    "emb.shape"
   ]
  },
  {
   "cell_type": "code",
   "execution_count": null,
   "metadata": {
    "collapsed": false,
    "pycharm": {
     "name": "#%%\n"
    }
   },
   "outputs": [],
   "source": [
    "# np.save(\"./data/gae/gae-node-embs{}\".format(idx_save), emb_dict)"
   ]
  },
  {
   "cell_type": "code",
   "execution_count": null,
   "metadata": {},
   "outputs": [],
   "source": [
    "pca = PCA(n_components=2)\n",
    "pca_emb = pca.fit_transform(emb)"
   ]
  },
  {
   "cell_type": "code",
   "execution_count": null,
   "metadata": {
    "pycharm": {
     "name": "#%%\n"
    }
   },
   "outputs": [],
   "source": [
    "plt.figure(figsize=(10,5))\n",
    "plt.plot(pca_emb[:,0], pca_emb[:,1],'o', label='node embeddings', markersize=15)\n",
    "\n",
    "for (v,l) in zip(pca_emb, Labels):\n",
    "    plt.text(v[0],v[1],l,fontsize=20)\n",
    "plt.legend()\n",
    "\n",
    "# save fig\n",
    "# if not os.path.exists('./DataFigures/gae/'):\n",
    "#         os.makedirs('./DataFigures/gae/')\n",
    "# plt.savefig('DataFigures/gae/node-embs.eps', format='eps')"
   ]
  }
 ],
 "metadata": {
  "kernelspec": {
   "display_name": "Python 3",
   "language": "python",
   "name": "python3"
  },
  "language_info": {
   "codemirror_mode": {
    "name": "ipython",
    "version": 3
   },
   "file_extension": ".py",
   "mimetype": "text/x-python",
   "name": "python",
   "nbconvert_exporter": "python",
   "pygments_lexer": "ipython3",
   "version": "3.10.12"
  }
 },
 "nbformat": 4,
 "nbformat_minor": 2
}
