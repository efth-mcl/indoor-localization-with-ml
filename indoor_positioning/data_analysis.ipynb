{
 "cells": [
  {
   "cell_type": "markdown",
   "source": [
    "# Data Analysis\n",
    "Visualize the data where we use."
   ],
   "metadata": {
    "collapsed": false,
    "pycharm": {
     "name": "#%% md\n"
    }
   }
  },
  {
   "cell_type": "code",
   "execution_count": null,
   "metadata": {
    "collapsed": true
   },
   "outputs": [],
   "source": [
    "import pandas as pd\n",
    "import numpy as np\n",
    "from io import StringIO\n",
    "import matplotlib.pyplot as plt\n",
    "from thesispack.methods import position_figure, timestamp_figure, timestamp_grad_figure\n",
    "from thesispack.methods import splited_timestamp_figure, tod_and_spectrum_per_ap_with_pad\n",
    "from tensorflow.keras.preprocessing.sequence import pad_sequences\n",
    "import tensorflow as tf"
   ]
  },
  {
   "cell_type": "code",
   "execution_count": null,
   "outputs": [],
   "source": [
    "df=pd.read_csv(\n",
    "    StringIO(\n",
    "        str(\n",
    "            np.load(\"../data/Data.zip\")['RTT_data.csv'],\n",
    "            'utf-8'\n",
    "    )))"
   ],
   "metadata": {
    "collapsed": false,
    "pycharm": {
     "name": "#%%\n"
    }
   }
  },
  {
   "cell_type": "markdown",
   "source": [
    "## Map of Points"
   ],
   "metadata": {
    "collapsed": false,
    "pycharm": {
     "name": "#%% md\n"
    }
   }
  },
  {
   "cell_type": "code",
   "execution_count": null,
   "outputs": [],
   "source": [
    "ap_points_with_index = df[[\"AP_index\", \"AP_positionX[m]\", \"AP_positionY[m]\"]].drop_duplicates()\n",
    "ap_points_with_index = ap_points_with_index.to_numpy()\n",
    "ap_points_with_indexdf=pd.read_csv(\n",
    "    StringIO(\n",
    "        str(\n",
    "            np.load(\"../data/Data.zip\")['RTT_data.csv'],\n",
    "            'utf-8'\n",
    "    )))\n"
   ],
   "metadata": {
    "collapsed": false,
    "pycharm": {
     "name": "#%%\n"
    }
   }
  },
  {
   "cell_type": "code",
   "execution_count": null,
   "outputs": [],
   "source": [
    "save_obj = ['.', 'data','data_pos']\n",
    "position_figure(df, ap_points_with_index, None)\n"
   ],
   "metadata": {
    "collapsed": false,
    "pycharm": {
     "name": "#%%\n"
    }
   }
  },
  {
   "cell_type": "markdown",
   "source": [
    "## Timestamp [split per experiment]"
   ],
   "metadata": {
    "collapsed": false,
    "pycharm": {
     "name": "#%% md\n"
    }
   }
  },
  {
   "cell_type": "code",
   "execution_count": null,
   "outputs": [],
   "source": [],
   "metadata": {
    "collapsed": false,
    "pycharm": {
     "name": "#%%\n"
    }
   }
  },
  {
   "cell_type": "code",
   "execution_count": null,
   "outputs": [],
   "source": [
    "data = df['%Timestamp[s]']\n",
    "grad_data = np.gradient(data)\n",
    "up_thres = -750\n",
    "new_m_ind = [0] + list(np.where(grad_data < up_thres)[0][::2]) + [len(grad_data)]"
   ],
   "metadata": {
    "collapsed": false,
    "pycharm": {
     "name": "#%%\n"
    }
   }
  },
  {
   "cell_type": "code",
   "execution_count": null,
   "outputs": [],
   "source": [
    "save_obj = ['.', 'data','timestamp']\n",
    "timestamp_figure(data, r'$timestamp \\, in \\, sec.$', save_obj)\n",
    "\n",
    "save_obj = ['.', 'data','grad_timestamp']\n",
    "timestamp_grad_figure(grad_data, r'$timestamp \\, in \\, sec. \\, (gradient)$', up_thres, save_obj)\n",
    "\n",
    "save_obj = ['.', 'data','split_timestamp']\n",
    "splited_timestamp_figure(data, new_m_ind, r'$timestamp \\, in \\, sec.$', save_obj)"
   ],
   "metadata": {
    "collapsed": false,
    "pycharm": {
     "name": "#%%\n"
    }
   }
  },
  {
   "cell_type": "markdown",
   "source": [
    "## ToD per AP (sort term 5 sec.) with padding."
   ],
   "metadata": {
    "collapsed": false
   }
  },
  {
   "cell_type": "code",
   "execution_count": null,
   "outputs": [],
   "source": [],
   "metadata": {
    "collapsed": false,
    "pycharm": {
     "name": "#%%\n"
    }
   }
  },
  {
   "cell_type": "code",
   "execution_count": null,
   "outputs": [],
   "source": [
    "dt = 5\n",
    "tods_ap, _ =  tod_and_spectrum_per_ap_with_pad(df, new_m_ind, dt)"
   ],
   "metadata": {
    "collapsed": false,
    "pycharm": {
     "name": "#%%\n"
    }
   }
  },
  {
   "cell_type": "code",
   "execution_count": null,
   "outputs": [],
   "source": [
    "tod_min = np.min(tods_ap)\n",
    "tod_max = np.max(tods_ap)"
   ],
   "metadata": {
    "collapsed": false,
    "pycharm": {
     "name": "#%%\n"
    }
   }
  },
  {
   "cell_type": "code",
   "execution_count": null,
   "outputs": [],
   "source": [
    "# 100, 200, 601, 500\n",
    "expl_idx = 100"
   ],
   "metadata": {
    "collapsed": false,
    "pycharm": {
     "name": "#%%\n"
    }
   }
  },
  {
   "cell_type": "code",
   "execution_count": null,
   "outputs": [],
   "source": [
    "fig, ax = plt.subplots(1, 1, figsize=(5, 10))\n",
    "im = ax.imshow(tods_ap[expl_idx], vmin=tod_min, vmax=tod_max, cmap='coolwarm')\n",
    "plt.xticks(fontsize=16)\n",
    "plt.yticks(fontsize=16)\n",
    "cbar = fig.colorbar(im, ax=ax,  orientation='horizontal')\n",
    "cbar.ax.tick_params(labelsize=16)\n",
    "cbar.set_label(label=\"ToD factor (m)\", fontsize=20)\n",
    "plt.xlabel(r'$\\# \\, of \\, AP$', fontsize=20)\n",
    "plt.ylabel(r'$\\# \\, of \\, samples$', fontsize=20)\n",
    "\n",
    "save_obj = ['.', 'data', 'tod', expl_idx]\n",
    "# plt.savefig('{}/DataFigures/{}/{}-expl-{}.svg'.format(*save_obj))"
   ],
   "metadata": {
    "collapsed": false,
    "pycharm": {
     "name": "#%%\n"
    }
   }
  },
  {
   "cell_type": "markdown",
   "source": [
    "## Spectrogram per AP (200 first samples)."
   ],
   "metadata": {
    "collapsed": false
   }
  },
  {
   "cell_type": "code",
   "execution_count": null,
   "outputs": [],
   "source": [
    "spct_df = df.iloc[:, 8: 57+11]\n",
    "forminmax = spct_df.iloc[:, 3:].applymap(lambda x: np.abs(complex(x.replace('i', 'j')))).to_numpy()\n",
    "forminmax = 20*np.log10(forminmax + 1)\n",
    "sp_min = np.min(forminmax)\n",
    "sp_max = np.max(forminmax)"
   ],
   "metadata": {
    "collapsed": false,
    "pycharm": {
     "name": "#%%\n"
    }
   }
  },
  {
   "cell_type": "code",
   "execution_count": null,
   "outputs": [],
   "source": [
    "ap_idx = 1\n",
    "split_idx = 0\n",
    "split_df = spct_df.loc[new_m_ind[split_idx]+1:new_m_ind[split_idx+1]]\n",
    "split_df = split_df[split_df['AP_index'] == ap_idx]\n",
    "spectrumgram = split_df.iloc[:, 3: ].applymap(lambda x: np.abs(complex(x.replace('i', 'j')))).to_numpy()\n",
    "spectrumgram = 20*np.log10(spectrumgram + 1)"
   ],
   "metadata": {
    "collapsed": false,
    "pycharm": {
     "name": "#%%\n"
    }
   }
  },
  {
   "cell_type": "code",
   "execution_count": null,
   "outputs": [],
   "source": [
    "fig, ax = plt.subplots(1,1, figsize=(16,8))\n",
    "im = ax.imshow(spectrumgram[:200].T, vmax=sp_max, vmin=sp_min, cmap='inferno')\n",
    "# plt.tick_params(fontsize=16, axis = 'both')\n",
    "plt.xticks(fontsize=16)\n",
    "plt.yticks(ticks =np.linspace(1, 56, 5), labels=312.5*np.linspace(-58, -2, 5).astype(int), fontsize=16)\n",
    "plt.xlabel(r'$\\# \\, of \\, samples$', fontsize=20)\n",
    "plt.ylabel(r'$Hz$', fontsize=20)\n",
    "\n",
    "cbar = fig.colorbar(im, ax=ax,  orientation='horizontal')\n",
    "cbar.ax.tick_params(labelsize=16)\n",
    "cbar.set_label(label=r'$dBm$', fontsize=20)\n",
    "\n",
    "save_obj = ['.', 'data', 'spectrumgram', ap_idx, split_idx]\n",
    "# plt.savefig('{}/DataFigures/{}/{}-ap-{}-data_split-{}.svg'.format(*save_obj))"
   ],
   "metadata": {
    "collapsed": false,
    "pycharm": {
     "name": "#%%\n"
    }
   }
  },
  {
   "cell_type": "markdown",
   "source": [
    "## Spectrogram per AP (sort term 5 sec.) with padding."
   ],
   "metadata": {
    "collapsed": false,
    "pycharm": {
     "name": "#%% md\n"
    }
   }
  },
  {
   "cell_type": "code",
   "source": [
    "dt = 5\n",
    "_, pad_spectrumgrams =  tod_and_spectrum_per_ap_with_pad(df, new_m_ind, dt)\n",
    "pad_spectrumgrams = 20*np.log10(pad_spectrumgrams + 1)\n",
    "\n",
    "sps_min = np.min(pad_spectrumgrams)\n",
    "sps_max = np.max(pad_spectrumgrams)\n"
   ],
   "metadata": {
    "collapsed": false,
    "pycharm": {
     "name": "#%%\n"
    }
   },
   "execution_count": null,
   "outputs": []
  },
  {
   "cell_type": "code",
   "execution_count": null,
   "outputs": [],
   "source": [
    "example_idx = 0\n",
    "ap_idx = 0\n",
    "fig, ax = plt.subplots(1,1, figsize=(16,8))\n",
    "im = ax.imshow(pad_spectrumgrams[example_idx,:, ap_idx], cmap='inferno', vmin=sps_min, vmax=sps_max)\n",
    "plt.yticks(fontsize=16)\n",
    "plt.xticks(ticks =np.linspace(1, 56, 5), labels=312.5*np.linspace(-58, -2, 5).astype(int), fontsize=16)\n",
    "\n",
    "plt.ylabel(r'$\\# \\, of \\, samples$', fontsize=20)\n",
    "plt.xlabel(r'$Hz$', fontsize=20)\n",
    "\n",
    "cbar = fig.colorbar(im, ax=ax,  orientation='horizontal')\n",
    "cbar.ax.tick_params(labelsize=16)\n",
    "cbar.set_label(label=r'$dBm$', fontsize=20)\n",
    "\n",
    "save_obj = ['.', 'data', 'spectrumgram_pad', example_idx, ap_idx+1]\n",
    "# plt.savefig('{}/DataFigures/{}/{}-expl-{}-ap-{}.svg'.format(*save_obj))"
   ],
   "metadata": {
    "collapsed": false,
    "pycharm": {
     "name": "#%%\n"
    }
   }
  }
 ],
 "metadata": {
  "kernelspec": {
   "display_name": "Python 3",
   "language": "python",
   "name": "python3"
  },
  "language_info": {
   "codemirror_mode": {
    "name": "ipython",
    "version": 2
   },
   "file_extension": ".py",
   "mimetype": "text/x-python",
   "name": "python",
   "nbconvert_exporter": "python",
   "pygments_lexer": "ipython2",
   "version": "2.7.6"
  }
 },
 "nbformat": 4,
 "nbformat_minor": 0
}