{
 "cells": [
  {
   "cell_type": "code",
   "execution_count": null,
   "metadata": {},
   "outputs": [],
   "source": [
    "import numpy as np\n",
    "import matplotlib.pyplot as plt\n",
    "\n",
    "import tensorflow as tf\n",
    "from thesispack.methods import history_figure\n",
    "from thesispack.models import RTT_RNN_AT\n",
    "from thesispack.datasets import WIFIRTTDataset"
   ]
  },
  {
   "cell_type": "code",
   "execution_count": null,
   "metadata": {},
   "outputs": [],
   "source": [
    "from package.thesispack.methods import plot_psxy, plot_psxy2\n",
    "for gpu in tf.config.list_physical_devices('GPU'):\n",
    "    print(gpu)\n",
    "    tf.config.experimental.set_memory_growth(gpu, True)"
   ]
  },
  {
   "cell_type": "code",
   "execution_count": null,
   "outputs": [],
   "source": [
    "rttwifi_dset = WIFIRTTDataset()"
   ],
   "metadata": {
    "collapsed": false,
    "pycharm": {
     "name": "#%%\n"
    }
   }
  },
  {
   "cell_type": "code",
   "execution_count": null,
   "metadata": {
    "pycharm": {
     "name": "#%%\n"
    }
   },
   "outputs": [],
   "source": [
    "es = {'es_strategy':'patience', 'es_metric':'val_score', 'es_min_delta': 1e-3, 'es_patience': 10 }\n",
    "rtt_rnn = RTT_RNN_AT(early_stop_vars=None)"
   ]
  },
  {
   "cell_type": "code",
   "execution_count": null,
   "metadata": {},
   "outputs": [],
   "source": [
    "# rtt_rnn.load_weights('weights/rtt_rnn16_1_weights')"
   ]
  },
  {
   "cell_type": "code",
   "execution_count": null,
   "metadata": {
    "pycharm": {
     "is_executing": true,
     "name": "#%%\n"
    },
    "scrolled": true
   },
   "outputs": [],
   "source": [
    "rtt_rnn.set_lr_rate(1e-5)\n",
    "es = {'es_strategy':'patience', 'es_metric':'val_score', 'es_min_delta': 1e-3, 'es_patience': 10 }\n",
    "# rtt_rnn.set_early_stop(es)\n",
    "rtt_rnn.set_clip_norm(0.0)\n",
    "\n",
    "rtt_rnn.train(rttwifi_dset.train, 100, rttwifi_dset.val, history_learning_process=True)"
   ]
  },
  {
   "cell_type": "code",
   "execution_count": null,
   "metadata": {},
   "outputs": [],
   "source": [
    "print(rtt_rnn.cost_mtr.metric_dataset(rttwifi_dset.val))\n",
    "print(rtt_rnn.cost_mtr.metric_dataset(rttwifi_dset.train))\n",
    "\n",
    "print(rtt_rnn.score_mtr.metric_dataset(rttwifi_dset.val))\n",
    "print(rtt_rnn.score_mtr.metric_dataset(rttwifi_dset.train))"
   ]
  },
  {
   "cell_type": "code",
   "execution_count": null,
   "metadata": {},
   "outputs": [],
   "source": [
    "print(rtt_rnn.cost_mtr.metric_dataset(rttwifi_dset.test))\n",
    "print(rtt_rnn.score_mtr.metric_dataset(rttwifi_dset.test))"
   ]
  },
  {
   "cell_type": "code",
   "execution_count": null,
   "metadata": {},
   "outputs": [],
   "source": [
    "# rtt_rnn.save_weights('weights/rtt_rnn18_1_weights')"
   ]
  },
  {
   "cell_type": "code",
   "execution_count": null,
   "metadata": {},
   "outputs": [],
   "source": [
    "#train\n",
    "save_obj = ['.','outpout','train-top-20']\n",
    "plot_psxy(rtt_rnn, 'train')\n",
    "plot_psxy2(rtt_rnn, 'train',  kfirst=-1, save_obj=None)"
   ]
  },
  {
   "cell_type": "code",
   "execution_count": null,
   "metadata": {
    "pycharm": {
     "name": "#%%\n"
    }
   },
   "outputs": [],
   "source": [
    "#val\n",
    "save_obj = ['.','outpout','train-top-20']\n",
    "plot_psxy(rtt_rnn, 'val')\n",
    "plot_psxy2(rtt_rnn, 'val', kfirst=-1, save_obj=None)"
   ]
  },
  {
   "cell_type": "code",
   "execution_count": null,
   "metadata": {
    "pycharm": {
     "name": "#%%\n"
    }
   },
   "outputs": [],
   "source": [
    "#test\n",
    "save_obj = ['.','outpout','test-top-20']\n",
    "plot_psxy(rtt_rnn, 'test')\n",
    "plot_psxy2(rtt_rnn, 'test', kfirst=-1, save_obj=None)"
   ]
  },
  {
   "cell_type": "code",
   "execution_count": null,
   "metadata": {
    "pycharm": {
     "name": "#%%\n"
    }
   },
   "outputs": [],
   "source": [
    "save_obj = ['.','.','rtt-wifi','cost-score','']\n",
    "history_figure(rtt_rnn.history, save_obj=None)"
   ]
  }
 ],
 "metadata": {
  "kernelspec": {
   "display_name": "Python 3",
   "language": "python",
   "name": "python3"
  },
  "language_info": {
   "codemirror_mode": {
    "name": "ipython",
    "version": 3
   },
   "file_extension": ".py",
   "mimetype": "text/x-python",
   "name": "python",
   "nbconvert_exporter": "python",
   "pygments_lexer": "ipython3",
   "version": "3.8.0"
  }
 },
 "nbformat": 4,
 "nbformat_minor": 1
}