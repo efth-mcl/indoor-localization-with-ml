{
 "cells": [
  {
   "cell_type": "code",
   "execution_count": null,
   "metadata": {},
   "outputs": [],
   "source": [
    "import sys\n",
    "sys.path.append('figures')\n",
    "sys.path.append('methods')\n",
    "\n",
    "import tensorflow as tf\n",
    "from figures.nn import plot_psxy, plot_psxy2\n",
    "from algomorphism.figure.opt import multiple_models_history_figure\n",
    "from models import RttRnnAt\n",
    "from datasets import WIFIRTTDataset"
   ]
  },
  {
   "cell_type": "code",
   "execution_count": null,
   "metadata": {},
   "outputs": [],
   "source": [
    "# optional for GPU usage\n",
    "\n",
    "# for gpu in tf.config.list_physical_devices('GPU'):\n",
    "#     print(gpu)\n",
    "#     tf.config.experimental.set_memory_growth(gpu, True)\n"
   ]
  },
  {
   "cell_type": "code",
   "execution_count": null,
   "metadata": {
    "collapsed": false,
    "pycharm": {
     "name": "#%%\n"
    }
   },
   "outputs": [],
   "source": [
    "w = 20\n",
    "batch_size = 128\n",
    "rttwifi_dset = WIFIRTTDataset()\n",
    "rttwifi_dset.load_dataset(w, batch_size)\n",
    "min_xy, max_xy = rttwifi_dset.get_min_max_pos()"
   ]
  },
  {
   "cell_type": "code",
   "execution_count": null,
   "metadata": {
    "pycharm": {
     "name": "#%%\n"
    }
   },
   "outputs": [],
   "source": [
    "es = {'es_strategy':'patience', 'es_metric':'val_score', 'es_min_delta': 1e-3, 'es_patience': 10 }\n",
    "adam = tf.keras.optimizers.Adam()\n",
    "rtt_rnn = RttRnnAt(early_stop_vars=None, min_xy=min_xy, max_xy=max_xy, optimizer=adam)"
   ]
  },
  {
   "cell_type": "code",
   "execution_count": null,
   "metadata": {},
   "outputs": [],
   "source": [
    "# rtt_rnn.load_weights('weights/rtt_rnn16_1_weights')"
   ]
  },
  {
   "cell_type": "code",
   "execution_count": null,
   "metadata": {
    "pycharm": {
     "name": "#%%\n"
    },
    "scrolled": true
   },
   "outputs": [],
   "source": [
    "rtt_rnn.set_lr_rate(1e-5)\n",
    "rtt_rnn.train(rttwifi_dset.train, 20, rttwifi_dset.val, history_learning_process=True)"
   ]
  },
  {
   "cell_type": "code",
   "execution_count": null,
   "metadata": {},
   "outputs": [],
   "source": [
    "print(rtt_rnn.cost_mtr.metric_dataset(rttwifi_dset.val))\n",
    "print(rtt_rnn.cost_mtr.metric_dataset(rttwifi_dset.train))"
   ]
  },
  {
   "cell_type": "code",
   "execution_count": null,
   "metadata": {},
   "outputs": [],
   "source": [
    "print(rtt_rnn.cost_mtr.metric_dataset(rttwifi_dset.test))"
   ]
  },
  {
   "cell_type": "code",
   "execution_count": null,
   "metadata": {},
   "outputs": [],
   "source": [
    "# rtt_rnn.save_weights('weights/rtt_rnn18_1_weights')"
   ]
  },
  {
   "cell_type": "code",
   "execution_count": null,
   "metadata": {},
   "outputs": [],
   "source": [
    "#train\n",
    "save_obj = ['.','outpout','train-top-20']\n",
    "plot_psxy(rtt_rnn, rttwifi_dset, 'train')\n",
    "plot_psxy2(rtt_rnn, rttwifi_dset, 'train',  kfirst=-1, save_obj=None)"
   ]
  },
  {
   "cell_type": "code",
   "execution_count": null,
   "metadata": {
    "pycharm": {
     "name": "#%%\n"
    }
   },
   "outputs": [],
   "source": [
    "#val\n",
    "save_obj = ['.','outpout','train-top-20']\n",
    "plot_psxy(rtt_rnn, rttwifi_dset, 'val')\n",
    "plot_psxy2(rtt_rnn, rttwifi_dset, 'val', kfirst=-1, save_obj=None)"
   ]
  },
  {
   "cell_type": "code",
   "execution_count": null,
   "metadata": {
    "pycharm": {
     "name": "#%%\n"
    }
   },
   "outputs": [],
   "source": [
    "#test\n",
    "save_obj = ['.','outpout','test-top-20']\n",
    "plot_psxy(rtt_rnn, rttwifi_dset, 'test')\n",
    "plot_psxy2(rtt_rnn, rttwifi_dset, 'test', kfirst=-1, save_obj=None)"
   ]
  },
  {
   "cell_type": "code",
   "execution_count": null,
   "metadata": {
    "pycharm": {
     "name": "#%%\n"
    }
   },
   "outputs": [],
   "source": [
    "save_obj = ['.','.','rtt-wifi','cost-score','']\n",
    "multiple_models_history_figure([rtt_rnn], save_obj=None)"
   ]
  }
 ],
 "metadata": {
  "kernelspec": {
   "display_name": "Python 3",
   "language": "python",
   "name": "python3"
  },
  "language_info": {
   "codemirror_mode": {
    "name": "ipython",
    "version": 3
   },
   "file_extension": ".py",
   "mimetype": "text/x-python",
   "name": "python",
   "nbconvert_exporter": "python",
   "pygments_lexer": "ipython3",
   "version": "3.10.12"
  }
 },
 "nbformat": 4,
 "nbformat_minor": 1
}
