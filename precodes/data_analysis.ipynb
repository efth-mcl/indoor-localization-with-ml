{
 "cells": [
  {
   "cell_type": "markdown",
   "source": [
    "# Data Analysis\n",
    "Visualize the data where we use."
   ],
   "metadata": {
    "collapsed": false,
    "pycharm": {
     "name": "#%% md\n"
    }
   }
  },
  {
   "cell_type": "code",
   "execution_count": null,
   "metadata": {
    "collapsed": true
   },
   "outputs": [],
   "source": [
    "import pandas as pd\n",
    "import numpy as np\n",
    "from io import StringIO\n",
    "import matplotlib.pyplot as plt\n",
    "\n",
    "from tensorflow.keras.preprocessing.sequence import pad_sequences\n",
    "import tensorflow as tf"
   ]
  },
  {
   "cell_type": "code",
   "execution_count": null,
   "outputs": [],
   "source": [
    "df=pd.read_csv(\n",
    "    StringIO(\n",
    "        str(\n",
    "            np.load(\"../data/Data.zip\")['RTT_data.csv'],\n",
    "            'utf-8'\n",
    "    )))"
   ],
   "metadata": {
    "collapsed": false,
    "pycharm": {
     "name": "#%%\n"
    }
   }
  },
  {
   "cell_type": "markdown",
   "source": [
    "## Map of Points"
   ],
   "metadata": {
    "collapsed": false,
    "pycharm": {
     "name": "#%% md\n"
    }
   }
  },
  {
   "cell_type": "code",
   "execution_count": null,
   "outputs": [],
   "source": [
    "ap_points_with_index = df[[\"AP_index\", \"AP_positionX[m]\", \"AP_positionY[m]\"]].drop_duplicates()\n",
    "ap_points_with_index = ap_points_with_index.to_numpy()\n",
    "ap_points_with_indexdf=pd.read_csv(\n",
    "    StringIO(\n",
    "        str(\n",
    "            np.load(\"../data/Data.zip\")['RTT_data.csv'],\n",
    "            'utf-8'\n",
    "    )))"
   ],
   "metadata": {
    "collapsed": false,
    "pycharm": {
     "name": "#%%\n"
    }
   }
  },
  {
   "cell_type": "code",
   "execution_count": null,
   "outputs": [],
   "source": [
    "def position_figure(df, ap_points_with_index, save_obj=None):\n",
    "    plt.figure(figsize=(16,8))\n",
    "    plt.plot(df[\"GroundTruthPositionX[m]\"], df[\"GroundTruthPositionY[m]\"], 'o', label=\"moving device position\")\n",
    "    plt.plot(ap_points_with_index[:,1], ap_points_with_index[:,2], '^', markersize=12, label=\"AP position\")\n",
    "    for inx, x, y in ap_points_with_index:\n",
    "        plt.text(x,y, int(inx), fontsize=20)\n",
    "\n",
    "    plt.legend(fontsize=16)\n",
    "    plt.xticks(fontsize=16)\n",
    "    plt.yticks(fontsize=16)\n",
    "    if save_obj is None:\n",
    "        plt.xticks(color='red')\n",
    "        plt.yticks(color='red')\n",
    "        plt.xlabel(r'$x \\, axis$', fontsize=20, color='red')\n",
    "        plt.ylabel(r'$y \\, axis$', fontsize=20, color='red')\n",
    "    else:\n",
    "        plt.xlabel(r'$x \\, axis$', fontsize=20)\n",
    "        plt.ylabel(r'$y \\, axis$', fontsize=20)\n",
    "        plt.savefig('{}/DataFigures/{}/{}.svg'.format(*save_obj))"
   ],
   "metadata": {
    "collapsed": false,
    "pycharm": {
     "name": "#%%\n"
    }
   }
  },
  {
   "cell_type": "code",
   "execution_count": null,
   "outputs": [],
   "source": [
    "save_obj = ['.', 'data','data_pos']\n",
    "position_figure(df, ap_points_with_index, None)\n"
   ],
   "metadata": {
    "collapsed": false,
    "pycharm": {
     "name": "#%%\n"
    }
   }
  },
  {
   "cell_type": "markdown",
   "source": [
    "## Timestamp [split per experiment]"
   ],
   "metadata": {
    "collapsed": false,
    "pycharm": {
     "name": "#%% md\n"
    }
   }
  },
  {
   "cell_type": "code",
   "execution_count": null,
   "outputs": [],
   "source": [
    "def timestamp_figure(data, ylabel, save_obj=None):\n",
    "    plt.figure(figsize=(16, 8))\n",
    "    plt.plot(data)\n",
    "\n",
    "    plt.xticks(fontsize=16)\n",
    "    plt.yticks(fontsize=16)\n",
    "    if save_obj is None:\n",
    "        plt.xticks(color='red')\n",
    "        plt.yticks(color='red')\n",
    "        plt.xlabel(r'$\\# \\, of \\, samples$', fontsize=20, color='red')\n",
    "        plt.ylabel(ylabel, fontsize=20, color='red')\n",
    "    else:\n",
    "        plt.xlabel(r'$\\# \\, of \\, samples$', fontsize=20)\n",
    "        plt.ylabel(ylabel, fontsize=20)\n",
    "        plt.savefig('{}/DataFigures/{}/{}.svg'.format(*save_obj))\n",
    "\n",
    "\n",
    "def timestamp_grad_figure(data, ylabel, up_thres, save_obj=None):\n",
    "    plt.figure(figsize=(16, 8))\n",
    "    plt.plot(data, label=r'$\\nabla \\, timestamp$')\n",
    "    plt.plot([0, len(data)], [up_thres, up_thres], label='upper threshold ' + r'$({})$'.format(up_thres))\n",
    "\n",
    "    plt.xticks(fontsize=16)\n",
    "    plt.yticks(fontsize=16)\n",
    "    plt.legend(fontsize=20, loc=\"lower right\")\n",
    "    if save_obj is None:\n",
    "        plt.xticks(color='red')\n",
    "        plt.yticks(color='red')\n",
    "        plt.xlabel(r'$\\# \\, of \\, samples$', fontsize=20, color='red')\n",
    "        plt.ylabel(ylabel, fontsize=20, color='red')\n",
    "    else:\n",
    "        plt.xlabel(r'$\\# \\, of \\, samples$', fontsize=20)\n",
    "        plt.ylabel(ylabel, fontsize=20)\n",
    "        plt.savefig('{}/DataFigures/{}/{}.svg'.format(*save_obj))\n",
    "\n",
    "def splited_timestamp_figure(data, new_m_ind, ylabel, save_obj=None):\n",
    "    def sub_figure(split_data, si):\n",
    "        plt.figure(figsize=(16,8))\n",
    "        plt.plot(split_data)\n",
    "        if save_obj is None:\n",
    "            plt.xticks(color='red')\n",
    "            plt.yticks(color='red')\n",
    "            plt.xlabel(r'$\\# \\, of \\, samples$', fontsize=20, color='red')\n",
    "            plt.ylabel(ylabel, fontsize=20, color='red')\n",
    "        else:\n",
    "            plt.xlabel(r'$\\# \\, of \\, samples$', fontsize=20)\n",
    "            plt.ylabel(ylabel, fontsize=20)\n",
    "            plt.savefig('{}/DataFigures/{}/{}-{}.svg'.format(*save_obj, si))\n",
    "    n_subplots = len(new_m_ind) - 1\n",
    "    nx_subplots = n_subplots // 2\n",
    "    ny_subplots = n_subplots - nx_subplots\n",
    "\n",
    "    for si in range(n_subplots):\n",
    "        # plt.subplot(nx_subplots, ny_subplots, si + 1)\n",
    "        sub_figure(data[new_m_ind[si]+1:new_m_ind[si+1]].to_numpy(), si)"
   ],
   "metadata": {
    "collapsed": false,
    "pycharm": {
     "name": "#%%\n"
    }
   }
  },
  {
   "cell_type": "code",
   "execution_count": null,
   "outputs": [],
   "source": [
    "data = df['%Timestamp[s]']\n",
    "grad_data = np.gradient(data)\n",
    "up_thres = -750\n",
    "new_m_ind = [0] + list(np.where(grad_data < up_thres)[0][::2]) + [len(grad_data)]"
   ],
   "metadata": {
    "collapsed": false,
    "pycharm": {
     "name": "#%%\n"
    }
   }
  },
  {
   "cell_type": "code",
   "execution_count": null,
   "outputs": [],
   "source": [
    "save_obj = ['.', 'data','timestamp']\n",
    "timestamp_figure(data, r'$timestamp \\, in \\, sec.$', save_obj)\n",
    "\n",
    "save_obj = ['.', 'data','grad_timestamp']\n",
    "timestamp_grad_figure(grad_data, r'$timestamp \\, in \\, sec. \\, (gradient)$', up_thres, save_obj)\n",
    "\n",
    "save_obj = ['.', 'data','split_timestamp']\n",
    "splited_timestamp_figure(data, new_m_ind, r'$timestamp \\, in \\, sec.$', save_obj)"
   ],
   "metadata": {
    "collapsed": false,
    "pycharm": {
     "name": "#%%\n"
    }
   }
  },
  {
   "cell_type": "markdown",
   "source": [
    "## ToD per AP (sort term 5 sec.) with padding."
   ],
   "metadata": {
    "collapsed": false
   }
  },
  {
   "cell_type": "code",
   "execution_count": null,
   "outputs": [],
   "source": [
    "def tod_and_spectrum_per_ap_with_pad(df, new_m_ind, dt):\n",
    "    max_pad = 0\n",
    "    tods_ap = []\n",
    "    spectrs_ap = []\n",
    "    for i in range(len(new_m_ind)-1):\n",
    "        dfmini = df.loc[new_m_ind[i]+1:new_m_ind[i+1]]\n",
    "\n",
    "        mint = dfmini[\"%Timestamp[s]\"].min()\n",
    "        dfmini[\"%Timestamp[s]\"] += -mint\n",
    "        widx = 0\n",
    "        while True:\n",
    "            tod_ap = []\n",
    "            spectr_ap = []\n",
    "            data = dfmini[(dfmini[\"%Timestamp[s]\"] <= dt*(widx+1)) & (dfmini[\"%Timestamp[s]\"] > dt*widx)].iloc[\n",
    "                :, :57+11\n",
    "            ]\n",
    "            if len(data) == 0:\n",
    "                break\n",
    "            for i in range(1, 13):\n",
    "                tod_ap.append(data[data[\"AP_index\"] == i][\"ToD_factor[m]\"].to_numpy())\n",
    "                spectr_ap.append(data[data[\"AP_index\"] == i].iloc[:, 11:].applymap(lambda x: np.abs(complex(x.replace('i', 'j')))).to_numpy())\n",
    "\n",
    "                if len(tod_ap[-1]) > max_pad:\n",
    "                    max_pad = len(tod_ap[-1])\n",
    "\n",
    "            tods_ap.append(tod_ap)\n",
    "            spectrs_ap.append(spectr_ap)\n",
    "            widx += 1\n",
    "\n",
    "    for i in range(len(tods_ap)):\n",
    "        tods_ap[i] = pad_sequences(tods_ap[i], padding=\"post\", maxlen=max_pad)\n",
    "        spectrs_ap[i] = pad_sequences(spectrs_ap[i], padding=\"post\", maxlen=max_pad)\n",
    "    tods_ap = tf.transpose(np.array(tods_ap), perm=[0,2,1]).numpy()\n",
    "    spectrs_ap = tf.transpose(np.array(spectrs_ap), perm=[0,2,1,3]).numpy()\n",
    "    return tods_ap, spectrs_ap"
   ],
   "metadata": {
    "collapsed": false,
    "pycharm": {
     "name": "#%%\n"
    }
   }
  },
  {
   "cell_type": "code",
   "execution_count": null,
   "outputs": [],
   "source": [
    "dt = 5\n",
    "tods_ap, _ =  tod_and_spectrum_per_ap_with_pad(df, new_m_ind, dt)"
   ],
   "metadata": {
    "collapsed": false,
    "pycharm": {
     "name": "#%%\n"
    }
   }
  },
  {
   "cell_type": "code",
   "execution_count": null,
   "outputs": [],
   "source": [
    "tod_min = np.min(tods_ap)\n",
    "tod_max = np.max(tods_ap)"
   ],
   "metadata": {
    "collapsed": false,
    "pycharm": {
     "name": "#%%\n"
    }
   }
  },
  {
   "cell_type": "code",
   "execution_count": null,
   "outputs": [],
   "source": [
    "# 100, 200, 601, 500\n",
    "expl_idx = 100"
   ],
   "metadata": {
    "collapsed": false,
    "pycharm": {
     "name": "#%%\n"
    }
   }
  },
  {
   "cell_type": "code",
   "execution_count": null,
   "outputs": [],
   "source": [
    "fig, ax = plt.subplots(1, 1, figsize=(5, 10))\n",
    "im = ax.imshow(tods_ap[expl_idx], vmin=tod_min, vmax=tod_max, cmap='coolwarm')\n",
    "plt.xticks(fontsize=16)\n",
    "plt.yticks(fontsize=16)\n",
    "cbar = fig.colorbar(im, ax=ax,  orientation='horizontal')\n",
    "cbar.ax.tick_params(labelsize=16)\n",
    "cbar.set_label(label=\"ToD factor (m)\", fontsize=20)\n",
    "plt.xlabel(r'$\\# \\, of \\, AP$', fontsize=20)\n",
    "plt.ylabel(r'$\\# \\, of \\, samples$', fontsize=20)\n",
    "\n",
    "save_obj = ['.', 'data', 'tod', expl_idx]\n",
    "# plt.savefig('{}/DataFigures/{}/{}-expl-{}.svg'.format(*save_obj))"
   ],
   "metadata": {
    "collapsed": false,
    "pycharm": {
     "name": "#%%\n"
    }
   }
  },
  {
   "cell_type": "markdown",
   "source": [
    "## Spectrogram per AP (200 first samples)."
   ],
   "metadata": {
    "collapsed": false
   }
  },
  {
   "cell_type": "code",
   "execution_count": null,
   "outputs": [],
   "source": [
    "spct_df = df.iloc[:, 8: 57+11]\n",
    "forminmax = spct_df.iloc[:, 3:].applymap(lambda x: np.abs(complex(x.replace('i', 'j')))).to_numpy()\n",
    "forminmax = 20*np.log10(forminmax + 1)\n",
    "sp_min = np.min(forminmax)\n",
    "sp_max = np.max(forminmax)"
   ],
   "metadata": {
    "collapsed": false,
    "pycharm": {
     "name": "#%%\n"
    }
   }
  },
  {
   "cell_type": "code",
   "execution_count": null,
   "outputs": [],
   "source": [
    "ap_idx = 1\n",
    "split_idx = 0\n",
    "split_df = spct_df.loc[new_m_ind[split_idx]+1:new_m_ind[split_idx+1]]\n",
    "split_df = split_df[split_df['AP_index'] == ap_idx]\n",
    "spectrumgram = split_df.iloc[:, 3: ].applymap(lambda x: np.abs(complex(x.replace('i', 'j')))).to_numpy()\n",
    "spectrumgram = 20*np.log10(spectrumgram + 1)"
   ],
   "metadata": {
    "collapsed": false,
    "pycharm": {
     "name": "#%%\n"
    }
   }
  },
  {
   "cell_type": "code",
   "execution_count": null,
   "outputs": [],
   "source": [
    "fig, ax = plt.subplots(1,1, figsize=(16,8))\n",
    "im = ax.imshow(spectrumgram[:200].T, vmax=sp_max, vmin=sp_min, cmap='inferno')\n",
    "# plt.tick_params(fontsize=16, axis = 'both')\n",
    "plt.xticks(fontsize=16)\n",
    "plt.yticks(ticks =np.linspace(1, 56, 5), labels=312.5*np.linspace(-58, -2, 5).astype(int), fontsize=16)\n",
    "plt.xlabel(r'$\\# \\, of \\, samples$', fontsize=20)\n",
    "plt.ylabel(r'$Hz$', fontsize=20)\n",
    "\n",
    "cbar = fig.colorbar(im, ax=ax,  orientation='horizontal')\n",
    "cbar.ax.tick_params(labelsize=16)\n",
    "cbar.set_label(label=r'$dBm$', fontsize=20)\n",
    "\n",
    "save_obj = ['.', 'data', 'spectrumgram', ap_idx, split_idx]\n",
    "# plt.savefig('{}/DataFigures/{}/{}-ap-{}-data_split-{}.svg'.format(*save_obj))"
   ],
   "metadata": {
    "collapsed": false,
    "pycharm": {
     "name": "#%%\n"
    }
   }
  },
  {
   "cell_type": "markdown",
   "source": [
    "## Spectrogram per AP (sort term 5 sec.) with padding."
   ],
   "metadata": {
    "collapsed": false,
    "pycharm": {
     "name": "#%% md\n"
    }
   }
  },
  {
   "cell_type": "code",
   "source": [
    "dt = 5\n",
    "_, pad_spectrumgrams =  tod_and_spectrum_per_ap_with_pad(df, new_m_ind, dt)\n",
    "pad_spectrumgrams = 20*np.log10(pad_spectrumgrams + 1)\n",
    "\n",
    "sps_min = np.min(pad_spectrumgrams)\n",
    "sps_max = np.max(pad_spectrumgrams)\n"
   ],
   "metadata": {
    "collapsed": false,
    "pycharm": {
     "name": "#%%\n"
    }
   },
   "execution_count": null,
   "outputs": []
  },
  {
   "cell_type": "code",
   "execution_count": null,
   "outputs": [],
   "source": [
    "example_idx = 0\n",
    "ap_idx = 0\n",
    "fig, ax = plt.subplots(1,1, figsize=(16,8))\n",
    "im = ax.imshow(pad_spectrumgrams[example_idx,:, ap_idx], cmap='inferno', vmin=sps_min, vmax=sps_max)\n",
    "plt.yticks(fontsize=16)\n",
    "plt.xticks(ticks =np.linspace(1, 56, 5), labels=312.5*np.linspace(-58, -2, 5).astype(int), fontsize=16)\n",
    "\n",
    "plt.ylabel(r'$\\# \\, of \\, samples$', fontsize=20)\n",
    "plt.xlabel(r'$Hz$', fontsize=20)\n",
    "\n",
    "cbar = fig.colorbar(im, ax=ax,  orientation='horizontal')\n",
    "cbar.ax.tick_params(labelsize=16)\n",
    "cbar.set_label(label=r'$dBm$', fontsize=20)\n",
    "\n",
    "save_obj = ['.', 'data', 'spectrumgram_pad', example_idx, ap_idx+1]\n",
    "# plt.savefig('{}/DataFigures/{}/{}-expl-{}-ap-{}.svg'.format(*save_obj))"
   ],
   "metadata": {
    "collapsed": false,
    "pycharm": {
     "name": "#%%\n"
    }
   }
  }
 ],
 "metadata": {
  "kernelspec": {
   "display_name": "Python 3",
   "language": "python",
   "name": "python3"
  },
  "language_info": {
   "codemirror_mode": {
    "name": "ipython",
    "version": 2
   },
   "file_extension": ".py",
   "mimetype": "text/x-python",
   "name": "python",
   "nbconvert_exporter": "python",
   "pygments_lexer": "ipython2",
   "version": "2.7.6"
  }
 },
 "nbformat": 4,
 "nbformat_minor": 0
}